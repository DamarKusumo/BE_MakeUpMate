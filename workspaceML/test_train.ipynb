{
  "cells": [
    {
      "cell_type": "code",
      "execution_count": 70,
      "metadata": {
        "id": "gVoiQXbf7cZ_"
      },
      "outputs": [],
      "source": [
        "# grader-required-cell\n",
        "\n",
        "import os\n",
        "import zipfile\n",
        "import random\n",
        "import shutil\n",
        "import tensorflow as tf\n",
        "from tensorflow.keras.preprocessing.image import ImageDataGenerator\n",
        "from shutil import copyfile\n",
        "import matplotlib.pyplot as plt"
      ]
    },
    {
      "cell_type": "code",
      "execution_count": 71,
      "metadata": {
        "colab": {
          "base_uri": "https://localhost:8080/"
        },
        "id": "g91uW2S3D6GQ",
        "outputId": "e8bdb6c6-bd52-4c97-bf8d-2a57fca3e900"
      },
      "outputs": [
        {
          "output_type": "stream",
          "name": "stdout",
          "text": [
            "Mounted at /content/drive\n"
          ]
        }
      ],
      "source": [
        "from google.colab import drive\n",
        "drive.mount('/content/drive', force_remount=True)"
      ]
    },
    {
      "cell_type": "code",
      "execution_count": 72,
      "metadata": {
        "id": "6ZidJ22G7w5e"
      },
      "outputs": [],
      "source": [
        "root_dir = '/content/drive/Shareddrives/Capstone/MakeUpMate/DataGambar/labeled_image'\n",
        "class_size = 10\n",
        "start_from = 1"
      ]
    },
    {
      "cell_type": "code",
      "execution_count": 73,
      "metadata": {
        "id": "nCMtcvTw-RKH"
      },
      "outputs": [],
      "source": [
        "def create_train_val_dirs(root_path, class_size, start_from):\n",
        "\n",
        "  os.makedirs(os.path.join(root_path, \"Train\"))\n",
        "  os.makedirs(os.path.join(root_path, \"Validation\"))\n",
        "\n",
        "\n",
        "  #Create train dirs\n",
        "  for i in range(start_from, class_size+1):\n",
        "    os.makedirs(os.path.join(root_path, \"Train/\" + f\"{i}\"))\n",
        "\n",
        "  #Create validation dirs\n",
        "  for i in range(start_from, class_size+1):\n",
        "    os.makedirs(os.path.join(root_path, \"Validation/\" + f\"{i}\"))\n"
      ]
    },
    {
      "cell_type": "code",
      "execution_count": 74,
      "metadata": {
        "id": "Sm8FMsrhC7eV"
      },
      "outputs": [],
      "source": [
        "try:\n",
        "  create_train_val_dirs(root_path=root_dir, class_size=class_size, start_from=start_from)\n",
        "except FileExistsError:\n",
        "  print(\"You should not be seeing this since the upper directory is removed beforehand\")"
      ]
    },
    {
      "cell_type": "code",
      "source": [
        "train_list_dir = os.listdir(os.path.join(root_dir, \"Train\"))\n",
        "validation_list_dir = os.listdir(os.path.join(root_dir, \"Validation\"))\n",
        "source_list_dir = os.listdir(os.path.join(root_dir))\n",
        "source_list_dir.remove(\"Train\")\n",
        "source_list_dir.remove(\"Validation\")\n",
        "\n",
        "print(\"Train Directories:\" + f\"{train_list_dir}\\n\")\n",
        "print(\"Validation Directories:\" + f\"{validation_list_dir}\\n\")\n",
        "print(\"Source Directories:\" + f\"{source_list_dir}\\n\")"
      ],
      "metadata": {
        "colab": {
          "base_uri": "https://localhost:8080/"
        },
        "id": "UuIpJmg_I4hy",
        "outputId": "d1b04070-2472-45fa-ef43-41ea0a7dd162"
      },
      "execution_count": 81,
      "outputs": [
        {
          "output_type": "stream",
          "name": "stdout",
          "text": [
            "Train Directories:['1', '2', '3', '4', '5', '6', '7', '8', '9', '10']\n",
            "\n",
            "Validation Directories:['1', '2', '3', '4', '5', '6', '7', '8', '9', '10']\n",
            "\n",
            "Source Directories:['3', '1', '5', '7', '4', '6', '10', '2', '8', '9']\n",
            "\n"
          ]
        }
      ]
    },
    {
      "cell_type": "code",
      "execution_count": 82,
      "metadata": {
        "id": "ZY7KBY0uDN59"
      },
      "outputs": [],
      "source": [
        "import math\n",
        "\n",
        "def split_data(SOURCE_DIR, TRAINING_DIR, VALIDATION_DIR, SPLIT_SIZE):\n",
        "\n",
        "  list_source = os.listdir(SOURCE_DIR)\n",
        "  list_source_rand = random.sample(list_source, len(list_source))\n",
        "  size_train = int(len(list_source)*SPLIT_SIZE)\n",
        "  #split train\n",
        "  for i in range(size_train):\n",
        "    if os.path.getsize(os.path.join(SOURCE_DIR, list_source_rand[i])) == 0:\n",
        "      print(f\"{list_source_rand[i]} is zero length, so ignoring.\")\n",
        "      continue\n",
        "    copyfile(os.path.join(SOURCE_DIR, list_source_rand[i]), os.path.join(TRAINING_DIR, list_source_rand[i]))\n",
        "\n",
        "  for i in range(size_train, len(list_source)):\n",
        "    if os.path.getsize(os.path.join(SOURCE_DIR, list_source_rand[i])) == 0:\n",
        "      print(f\"{list_source_rand[i]} is zero length, so ignoring.\")\n",
        "      continue\n",
        "    copyfile(os.path.join(SOURCE_DIR, list_source_rand[i]), os.path.join(VALIDATION_DIR, list_source_rand[i]))\n"
      ]
    },
    {
      "cell_type": "code",
      "execution_count": 85,
      "metadata": {
        "colab": {
          "base_uri": "https://localhost:8080/"
        },
        "id": "U7HTJ-09Daw4",
        "outputId": "6f2a4da8-a905-42e1-9434-82cb2f45fbad"
      },
      "outputs": [
        {
          "output_type": "stream",
          "name": "stdout",
          "text": [
            "\n",
            "Original 1 directory has 280 images\n",
            "\n",
            "Original 2 directory has 164 images\n",
            "\n",
            "Original 3 directory has 90 images\n",
            "\n",
            "Original 4 directory has 186 images\n",
            "\n",
            "Original 5 directory has 178 images\n",
            "\n",
            "Original 6 directory has 165 images\n",
            "\n",
            "Original 7 directory has 76 images\n",
            "\n",
            "Original 8 directory has 143 images\n",
            "\n",
            "Original 9 directory has 141 images\n",
            "\n",
            "Original 10 directory has 111 images\n",
            "\n",
            "Training 1 directory has 224 images\n",
            "Validation 1 directory has 56 images\n",
            "\n",
            "Training 2 directory has 131 images\n",
            "Validation 2 directory has 33 images\n",
            "\n",
            "Training 3 directory has 72 images\n",
            "Validation 3 directory has 18 images\n",
            "\n",
            "Training 4 directory has 148 images\n",
            "Validation 4 directory has 38 images\n",
            "\n",
            "Training 5 directory has 142 images\n",
            "Validation 5 directory has 36 images\n",
            "\n",
            "Training 6 directory has 132 images\n",
            "Validation 6 directory has 33 images\n",
            "\n",
            "Training 7 directory has 60 images\n",
            "Validation 7 directory has 16 images\n",
            "\n",
            "Training 8 directory has 114 images\n",
            "Validation 8 directory has 29 images\n",
            "\n",
            "Training 9 directory has 112 images\n",
            "Validation 9 directory has 29 images\n",
            "\n",
            "Training 10 directory has 88 images\n",
            "Validation 10 directory has 23 images\n"
          ]
        }
      ],
      "source": [
        "#Check if directory empty\n",
        "for i in range(0, class_size):\n",
        "  #Train\n",
        "  if len(os.listdir(os.path.join(root_dir, \"Train/\"+f\"{train_list_dir[i]}\"))) > 0:\n",
        "    for file in os.scandir(os.path.join(root_dir, \"Train/\"+f\"{train_list_dir[i]}\")):\n",
        "      os.remove(file.path)\n",
        "  #Validation\n",
        "  if len(os.listdir(os.path.join(root_dir, \"Validation/\"+f\"{validation_list_dir[i]}\"))) > 0:\n",
        "    for file in os.scandir(os.path.join(root_dir, \"Validation/\"+f\"{validation_list_dir[i]}\")):\n",
        "      os.remove(file.path)\n",
        "\n",
        "split_size = .8\n",
        "\n",
        "# Run the function\n",
        "for i in range(start_from, class_size+1):\n",
        "  source_dir = os.path.join(root_dir, f\"{i}\")\n",
        "  training_dir = os.path.join(root_dir, \"Train/\"+f\"{i}\")\n",
        "  validation_dir = os.path.join(root_dir, \"Validation/\"+f\"{i}\")\n",
        "  split_data(source_dir, training_dir, validation_dir, split_size)\n",
        "\n",
        "# Check that the number of images matches the expected output\n",
        "\n",
        "# Your function should perform copies rather than moving images so original directories should contain unchanged images\n",
        "for i in range(start_from, class_size+1):\n",
        "  source_dir = os.path.join(root_dir, f\"{i}\")\n",
        "  print(f\"\\nOriginal {i} directory has {len(os.listdir(source_dir))} images\")\n",
        "\n",
        "# Training and validation splits\n",
        "for i in range(start_from, class_size+1):\n",
        "  training_dir = os.path.join(root_dir, \"Train/\"+f\"{i}\")\n",
        "  validation_dir = os.path.join(root_dir, \"Validation/\"+f\"{i}\")\n",
        "  print(f\"\\nTraining {i} directory has {len(os.listdir(training_dir))} images\")\n",
        "  print(f\"Validation {i} directory has {len(os.listdir(validation_dir))} images\")"
      ]
    },
    {
      "cell_type": "markdown",
      "metadata": {
        "id": "9Ag9uVgAbEKV"
      },
      "source": [
        "#Please Only Run From This Code Below For Machine Learning Purposes"
      ]
    },
    {
      "cell_type": "code",
      "source": [
        "training_dir = os.path.join(root_dir, \"Train\")\n",
        "validation_dir = os.path.join(root_dir, \"Validation\")"
      ],
      "metadata": {
        "id": "jBoz_OQEehVT"
      },
      "execution_count": 86,
      "outputs": []
    },
    {
      "cell_type": "code",
      "execution_count": 87,
      "metadata": {
        "id": "JERXcZ3TNURf"
      },
      "outputs": [],
      "source": [
        "def train_val_generators(TRAINING_DIR, VALIDATION_DIR):\n",
        "\n",
        "  train_datagen = ImageDataGenerator(rescale=1./255.)\n",
        "\n",
        "  train_generator = train_datagen.flow_from_directory(directory=TRAINING_DIR,\n",
        "                                                      batch_size=20,\n",
        "                                                      class_mode='binary',\n",
        "                                                      target_size=(150, 150))\n",
        "\n",
        "  validation_datagen = ImageDataGenerator(rescale=1./255.)\n",
        "  # Pass in the appropriate arguments to the flow_from_directory method\n",
        "  validation_generator = validation_datagen.flow_from_directory(directory=VALIDATION_DIR,\n",
        "                                                                batch_size=20,\n",
        "                                                                class_mode='binary',\n",
        "                                                                target_size=(150, 150))\n",
        "  ### END CODE HERE\n",
        "  return train_generator, validation_generator"
      ]
    },
    {
      "cell_type": "code",
      "execution_count": 88,
      "metadata": {
        "colab": {
          "base_uri": "https://localhost:8080/"
        },
        "id": "zjAaoGhnOcLP",
        "outputId": "e9567d41-cb7a-4c4c-9ef0-646b129e76c1"
      },
      "outputs": [
        {
          "output_type": "stream",
          "name": "stdout",
          "text": [
            "Found 1214 images belonging to 10 classes.\n",
            "Found 311 images belonging to 10 classes.\n"
          ]
        }
      ],
      "source": [
        "train_generator, validation_generator = train_val_generators(training_dir, validation_dir)"
      ]
    },
    {
      "cell_type": "code",
      "execution_count": 89,
      "metadata": {
        "id": "BxqY3tiLOjk7"
      },
      "outputs": [],
      "source": [
        "def create_model():\n",
        "\n",
        "  model = tf.keras.models.Sequential([ \n",
        "      tf.keras.layers.Conv2D(16, (3, 3), activation='relu', input_shape=(150, 150, 3)),\n",
        "      tf.keras.layers.MaxPooling2D(2, 2),\n",
        "      tf.keras.layers.Conv2D(32, (3,3), activation='relu'),\n",
        "      tf.keras.layers.MaxPooling2D(2, 2),\n",
        "      tf.keras.layers.Conv2D(32, (3,3), activation='relu'),\n",
        "      tf.keras.layers.MaxPooling2D(2, 2),\n",
        "      tf.keras.layers.Flatten(),\n",
        "      tf.keras.layers.Dense(512, activation='relu'),\n",
        "      tf.keras.layers.Dense(10, activation='softmax')\n",
        "  ])\n",
        "\n",
        "  \n",
        "  model.compile(optimizer=tf.keras.optimizers.RMSprop(learning_rate=0.001),\n",
        "                loss='sparse_categorical_crossentropy',\n",
        "                metrics=['accuracy']) \n",
        "    \n",
        "  return model"
      ]
    },
    {
      "cell_type": "code",
      "execution_count": 90,
      "metadata": {
        "colab": {
          "base_uri": "https://localhost:8080/"
        },
        "id": "z3Y5QTW2OrPz",
        "outputId": "721da2aa-86c9-4e40-c8f9-0e43908fb0ce"
      },
      "outputs": [
        {
          "output_type": "stream",
          "name": "stdout",
          "text": [
            "Epoch 1/10\n",
            "61/61 [==============================] - 365s 6s/step - loss: 1.6355 - accuracy: 0.4909 - val_loss: 0.5187 - val_accuracy: 0.8457\n",
            "Epoch 2/10\n",
            "61/61 [==============================] - 394s 6s/step - loss: 0.4975 - accuracy: 0.8328 - val_loss: 0.2945 - val_accuracy: 0.9003\n",
            "Epoch 3/10\n",
            "61/61 [==============================] - 366s 6s/step - loss: 0.2887 - accuracy: 0.9020 - val_loss: 0.1585 - val_accuracy: 0.9357\n",
            "Epoch 4/10\n",
            "61/61 [==============================] - 365s 6s/step - loss: 0.1795 - accuracy: 0.9415 - val_loss: 0.1814 - val_accuracy: 0.9325\n",
            "Epoch 5/10\n",
            "61/61 [==============================] - 361s 6s/step - loss: 0.1436 - accuracy: 0.9448 - val_loss: 0.2745 - val_accuracy: 0.9357\n",
            "Epoch 6/10\n",
            "61/61 [==============================] - 351s 6s/step - loss: 0.1384 - accuracy: 0.9465 - val_loss: 0.1782 - val_accuracy: 0.9421\n",
            "Epoch 7/10\n",
            "61/61 [==============================] - 356s 6s/step - loss: 0.0896 - accuracy: 0.9629 - val_loss: 0.1950 - val_accuracy: 0.9132\n",
            "Epoch 8/10\n",
            "61/61 [==============================] - 358s 6s/step - loss: 0.0904 - accuracy: 0.9514 - val_loss: 0.1509 - val_accuracy: 0.9389\n",
            "Epoch 9/10\n",
            "61/61 [==============================] - 353s 6s/step - loss: 0.0761 - accuracy: 0.9621 - val_loss: 0.2017 - val_accuracy: 0.9421\n",
            "Epoch 10/10\n",
            "61/61 [==============================] - 363s 6s/step - loss: 0.0841 - accuracy: 0.9646 - val_loss: 0.1403 - val_accuracy: 0.9357\n"
          ]
        }
      ],
      "source": [
        "# Get the untrained model\n",
        "model = create_model()\n",
        "\n",
        "# Train the model\n",
        "# Note that this may take some time.\n",
        "history = model.fit(train_generator,\n",
        "                    epochs=10,\n",
        "                    verbose=1,\n",
        "                    validation_data=validation_generator)"
      ]
    },
    {
      "cell_type": "code",
      "execution_count": 98,
      "metadata": {
        "colab": {
          "base_uri": "https://localhost:8080/",
          "height": 141
        },
        "id": "yNjgV88PPPXp",
        "outputId": "e3f3eeb5-bc82-49bd-9bd5-c468384f7849"
      },
      "outputs": [
        {
          "output_type": "display_data",
          "data": {
            "text/plain": [
              "<IPython.core.display.HTML object>"
            ],
            "text/html": [
              "\n",
              "     <input type=\"file\" id=\"files-b3391b84-8590-40da-bfc5-4254315c3edf\" name=\"files[]\" multiple disabled\n",
              "        style=\"border:none\" />\n",
              "     <output id=\"result-b3391b84-8590-40da-bfc5-4254315c3edf\">\n",
              "      Upload widget is only available when the cell has been executed in the\n",
              "      current browser session. Please rerun this cell to enable.\n",
              "      </output>\n",
              "      <script>// Copyright 2017 Google LLC\n",
              "//\n",
              "// Licensed under the Apache License, Version 2.0 (the \"License\");\n",
              "// you may not use this file except in compliance with the License.\n",
              "// You may obtain a copy of the License at\n",
              "//\n",
              "//      http://www.apache.org/licenses/LICENSE-2.0\n",
              "//\n",
              "// Unless required by applicable law or agreed to in writing, software\n",
              "// distributed under the License is distributed on an \"AS IS\" BASIS,\n",
              "// WITHOUT WARRANTIES OR CONDITIONS OF ANY KIND, either express or implied.\n",
              "// See the License for the specific language governing permissions and\n",
              "// limitations under the License.\n",
              "\n",
              "/**\n",
              " * @fileoverview Helpers for google.colab Python module.\n",
              " */\n",
              "(function(scope) {\n",
              "function span(text, styleAttributes = {}) {\n",
              "  const element = document.createElement('span');\n",
              "  element.textContent = text;\n",
              "  for (const key of Object.keys(styleAttributes)) {\n",
              "    element.style[key] = styleAttributes[key];\n",
              "  }\n",
              "  return element;\n",
              "}\n",
              "\n",
              "// Max number of bytes which will be uploaded at a time.\n",
              "const MAX_PAYLOAD_SIZE = 100 * 1024;\n",
              "\n",
              "function _uploadFiles(inputId, outputId) {\n",
              "  const steps = uploadFilesStep(inputId, outputId);\n",
              "  const outputElement = document.getElementById(outputId);\n",
              "  // Cache steps on the outputElement to make it available for the next call\n",
              "  // to uploadFilesContinue from Python.\n",
              "  outputElement.steps = steps;\n",
              "\n",
              "  return _uploadFilesContinue(outputId);\n",
              "}\n",
              "\n",
              "// This is roughly an async generator (not supported in the browser yet),\n",
              "// where there are multiple asynchronous steps and the Python side is going\n",
              "// to poll for completion of each step.\n",
              "// This uses a Promise to block the python side on completion of each step,\n",
              "// then passes the result of the previous step as the input to the next step.\n",
              "function _uploadFilesContinue(outputId) {\n",
              "  const outputElement = document.getElementById(outputId);\n",
              "  const steps = outputElement.steps;\n",
              "\n",
              "  const next = steps.next(outputElement.lastPromiseValue);\n",
              "  return Promise.resolve(next.value.promise).then((value) => {\n",
              "    // Cache the last promise value to make it available to the next\n",
              "    // step of the generator.\n",
              "    outputElement.lastPromiseValue = value;\n",
              "    return next.value.response;\n",
              "  });\n",
              "}\n",
              "\n",
              "/**\n",
              " * Generator function which is called between each async step of the upload\n",
              " * process.\n",
              " * @param {string} inputId Element ID of the input file picker element.\n",
              " * @param {string} outputId Element ID of the output display.\n",
              " * @return {!Iterable<!Object>} Iterable of next steps.\n",
              " */\n",
              "function* uploadFilesStep(inputId, outputId) {\n",
              "  const inputElement = document.getElementById(inputId);\n",
              "  inputElement.disabled = false;\n",
              "\n",
              "  const outputElement = document.getElementById(outputId);\n",
              "  outputElement.innerHTML = '';\n",
              "\n",
              "  const pickedPromise = new Promise((resolve) => {\n",
              "    inputElement.addEventListener('change', (e) => {\n",
              "      resolve(e.target.files);\n",
              "    });\n",
              "  });\n",
              "\n",
              "  const cancel = document.createElement('button');\n",
              "  inputElement.parentElement.appendChild(cancel);\n",
              "  cancel.textContent = 'Cancel upload';\n",
              "  const cancelPromise = new Promise((resolve) => {\n",
              "    cancel.onclick = () => {\n",
              "      resolve(null);\n",
              "    };\n",
              "  });\n",
              "\n",
              "  // Wait for the user to pick the files.\n",
              "  const files = yield {\n",
              "    promise: Promise.race([pickedPromise, cancelPromise]),\n",
              "    response: {\n",
              "      action: 'starting',\n",
              "    }\n",
              "  };\n",
              "\n",
              "  cancel.remove();\n",
              "\n",
              "  // Disable the input element since further picks are not allowed.\n",
              "  inputElement.disabled = true;\n",
              "\n",
              "  if (!files) {\n",
              "    return {\n",
              "      response: {\n",
              "        action: 'complete',\n",
              "      }\n",
              "    };\n",
              "  }\n",
              "\n",
              "  for (const file of files) {\n",
              "    const li = document.createElement('li');\n",
              "    li.append(span(file.name, {fontWeight: 'bold'}));\n",
              "    li.append(span(\n",
              "        `(${file.type || 'n/a'}) - ${file.size} bytes, ` +\n",
              "        `last modified: ${\n",
              "            file.lastModifiedDate ? file.lastModifiedDate.toLocaleDateString() :\n",
              "                                    'n/a'} - `));\n",
              "    const percent = span('0% done');\n",
              "    li.appendChild(percent);\n",
              "\n",
              "    outputElement.appendChild(li);\n",
              "\n",
              "    const fileDataPromise = new Promise((resolve) => {\n",
              "      const reader = new FileReader();\n",
              "      reader.onload = (e) => {\n",
              "        resolve(e.target.result);\n",
              "      };\n",
              "      reader.readAsArrayBuffer(file);\n",
              "    });\n",
              "    // Wait for the data to be ready.\n",
              "    let fileData = yield {\n",
              "      promise: fileDataPromise,\n",
              "      response: {\n",
              "        action: 'continue',\n",
              "      }\n",
              "    };\n",
              "\n",
              "    // Use a chunked sending to avoid message size limits. See b/62115660.\n",
              "    let position = 0;\n",
              "    do {\n",
              "      const length = Math.min(fileData.byteLength - position, MAX_PAYLOAD_SIZE);\n",
              "      const chunk = new Uint8Array(fileData, position, length);\n",
              "      position += length;\n",
              "\n",
              "      const base64 = btoa(String.fromCharCode.apply(null, chunk));\n",
              "      yield {\n",
              "        response: {\n",
              "          action: 'append',\n",
              "          file: file.name,\n",
              "          data: base64,\n",
              "        },\n",
              "      };\n",
              "\n",
              "      let percentDone = fileData.byteLength === 0 ?\n",
              "          100 :\n",
              "          Math.round((position / fileData.byteLength) * 100);\n",
              "      percent.textContent = `${percentDone}% done`;\n",
              "\n",
              "    } while (position < fileData.byteLength);\n",
              "  }\n",
              "\n",
              "  // All done.\n",
              "  yield {\n",
              "    response: {\n",
              "      action: 'complete',\n",
              "    }\n",
              "  };\n",
              "}\n",
              "\n",
              "scope.google = scope.google || {};\n",
              "scope.google.colab = scope.google.colab || {};\n",
              "scope.google.colab._files = {\n",
              "  _uploadFiles,\n",
              "  _uploadFilesContinue,\n",
              "};\n",
              "})(self);\n",
              "</script> "
            ]
          },
          "metadata": {}
        },
        {
          "output_type": "stream",
          "name": "stdout",
          "text": [
            "Saving LINE_ALBUM_Minggu 2 Januari_230125_11.jpg to LINE_ALBUM_Minggu 2 Januari_230125_11.jpg\n",
            "1/1 [==============================] - 0s 33ms/step\n",
            "[1.0544240e-02 7.1780100e-06 4.4280598e-01 1.9432115e-07 4.2723431e-03\n",
            " 7.5122521e-06 5.4197377e-01 3.7371443e-04 1.5023150e-05 5.7337579e-09]\n",
            "7\n"
          ]
        }
      ],
      "source": [
        "import numpy as np\n",
        "\n",
        "from google.colab import files\n",
        "from tensorflow.keras.utils import load_img, img_to_array\n",
        "import json\n",
        "from json import JSONEncoder\n",
        "\n",
        "import sys\n",
        "\n",
        "\n",
        "\n",
        "uploaded=files.upload()\n",
        "\n",
        "sample_arr = \"\"\n",
        "\n",
        "for fn in uploaded.keys():\n",
        " \n",
        "  path='/content/' + fn\n",
        "  img=load_img(path, target_size=(150, 150))\n",
        "  \n",
        "  x=img_to_array(img)\n",
        "  x /= 255\n",
        "  x=np.expand_dims(x, axis=0)\n",
        "  images = np.vstack([x])\n",
        "\n",
        "  # np.set_printoptions(threshold=sys.maxsize)\n",
        "\n",
        "  # arr_str = np.array_str(images)\n",
        "\n",
        "  # # print(arr_str)\n",
        "\n",
        "\n",
        "  # with open('readme.txt', 'w') as f:\n",
        "  #     for line in images:\n",
        "  #         f.write(str(line))\n",
        "  #         f.write('\\n')\n",
        "  \n",
        "  classes = model.predict(images, batch_size=10)\n",
        "  \n",
        "  print(classes[0])\n",
        "\n",
        "class_result = 0\n",
        "temp = 0\n",
        "counter = 0\n",
        "\n",
        "for i in classes[0]:\n",
        "  counter+=1\n",
        "  if i > temp:\n",
        "    temp = i\n",
        "    class_result = counter\n",
        "\n",
        "print(class_result)\n",
        " "
      ]
    },
    {
      "cell_type": "code",
      "execution_count": 102,
      "metadata": {
        "id": "CO46_zWQRQKS"
      },
      "outputs": [],
      "source": [
        "# Save the entire model as a SavedModel.\n",
        "!mkdir -p saved_model\n",
        "model.save('saved_model/my_model.h5')"
      ]
    },
    {
      "cell_type": "code",
      "execution_count": 103,
      "metadata": {
        "colab": {
          "base_uri": "https://localhost:8080/"
        },
        "id": "qGxDOf_QbtZ1",
        "outputId": "8a31b34d-92cc-4358-8922-0340deb126ae"
      },
      "outputs": [
        {
          "output_type": "stream",
          "name": "stdout",
          "text": [
            "updating: content/saved_model/ (stored 0%)\n",
            "updating: content/saved_model/my_model (deflated 8%)\n",
            "  adding: content/saved_model/my_model.h5 (deflated 8%)\n"
          ]
        }
      ],
      "source": [
        "!zip -r /content/saved_model.zip /content/saved_model\n",
        "# change sample_data.zip to your desired download name Ex: nothing.zip\n",
        "# change sample_data to your desired download folder name Ex: ner_data "
      ]
    },
    {
      "cell_type": "code",
      "execution_count": 104,
      "metadata": {
        "colab": {
          "base_uri": "https://localhost:8080/",
          "height": 17
        },
        "id": "aYvUIbhGbuvH",
        "outputId": "b86a8019-57bb-4ab7-9bc7-3891f2c7d270"
      },
      "outputs": [
        {
          "output_type": "display_data",
          "data": {
            "text/plain": [
              "<IPython.core.display.Javascript object>"
            ],
            "application/javascript": [
              "\n",
              "    async function download(id, filename, size) {\n",
              "      if (!google.colab.kernel.accessAllowed) {\n",
              "        return;\n",
              "      }\n",
              "      const div = document.createElement('div');\n",
              "      const label = document.createElement('label');\n",
              "      label.textContent = `Downloading \"${filename}\": `;\n",
              "      div.appendChild(label);\n",
              "      const progress = document.createElement('progress');\n",
              "      progress.max = size;\n",
              "      div.appendChild(progress);\n",
              "      document.body.appendChild(div);\n",
              "\n",
              "      const buffers = [];\n",
              "      let downloaded = 0;\n",
              "\n",
              "      const channel = await google.colab.kernel.comms.open(id);\n",
              "      // Send a message to notify the kernel that we're ready.\n",
              "      channel.send({})\n",
              "\n",
              "      for await (const message of channel.messages) {\n",
              "        // Send a message to notify the kernel that we're ready.\n",
              "        channel.send({})\n",
              "        if (message.buffers) {\n",
              "          for (const buffer of message.buffers) {\n",
              "            buffers.push(buffer);\n",
              "            downloaded += buffer.byteLength;\n",
              "            progress.value = downloaded;\n",
              "          }\n",
              "        }\n",
              "      }\n",
              "      const blob = new Blob(buffers, {type: 'application/binary'});\n",
              "      const a = document.createElement('a');\n",
              "      a.href = window.URL.createObjectURL(blob);\n",
              "      a.download = filename;\n",
              "      div.appendChild(a);\n",
              "      a.click();\n",
              "      div.remove();\n",
              "    }\n",
              "  "
            ]
          },
          "metadata": {}
        },
        {
          "output_type": "display_data",
          "data": {
            "text/plain": [
              "<IPython.core.display.Javascript object>"
            ],
            "application/javascript": [
              "download(\"download_5bccf429-ac49-4f6c-b709-324d0b84e573\", \"saved_model.zip\", 70442408)"
            ]
          },
          "metadata": {}
        }
      ],
      "source": [
        "from google.colab import files\n",
        "files.download(\"/content/saved_model.zip\")"
      ]
    },
    {
      "cell_type": "code",
      "execution_count": null,
      "metadata": {
        "id": "r3t6W1iwbxJF"
      },
      "outputs": [],
      "source": []
    }
  ],
  "metadata": {
    "colab": {
      "provenance": []
    },
    "kernelspec": {
      "display_name": "Python 3",
      "name": "python3"
    },
    "language_info": {
      "name": "python"
    }
  },
  "nbformat": 4,
  "nbformat_minor": 0
}