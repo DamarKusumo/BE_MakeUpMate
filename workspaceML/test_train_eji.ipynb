{
  "cells": [
    {
      "cell_type": "markdown",
      "source": [
        "#Ini wajib dirun"
      ],
      "metadata": {
        "id": "je48krkjTr9O"
      }
    },
    {
      "cell_type": "code",
      "execution_count": 1,
      "metadata": {
        "id": "gVoiQXbf7cZ_"
      },
      "outputs": [],
      "source": [
        "# grader-required-cell\n",
        "\n",
        "import os\n",
        "import zipfile\n",
        "import random\n",
        "import shutil\n",
        "import tensorflow as tf\n",
        "from tensorflow.keras.preprocessing.image import ImageDataGenerator\n",
        "from shutil import copyfile\n",
        "import matplotlib.pyplot as plt"
      ]
    },
    {
      "cell_type": "code",
      "execution_count": 2,
      "metadata": {
        "colab": {
          "base_uri": "https://localhost:8080/"
        },
        "id": "g91uW2S3D6GQ",
        "outputId": "7149a41e-37d7-41f4-c50c-6ed3a406a8fe"
      },
      "outputs": [
        {
          "output_type": "stream",
          "name": "stdout",
          "text": [
            "Mounted at /content/drive\n"
          ]
        }
      ],
      "source": [
        "from google.colab import drive\n",
        "drive.mount('/content/drive', force_remount=True)"
      ]
    },
    {
      "cell_type": "code",
      "execution_count": 3,
      "metadata": {
        "id": "6ZidJ22G7w5e"
      },
      "outputs": [],
      "source": [
        "root_dir = '/content/drive/Shareddrives/Capstone/MakeUpMate/DataGambar/cleaned_labeled_image'\n",
        "class_size = 10\n",
        "start_from = 1"
      ]
    },
    {
      "cell_type": "markdown",
      "source": [
        "#Ini untuk buat dataset"
      ],
      "metadata": {
        "id": "ySbWPhvkTxh3"
      }
    },
    {
      "cell_type": "code",
      "execution_count": null,
      "metadata": {
        "id": "nCMtcvTw-RKH"
      },
      "outputs": [],
      "source": [
        "def create_train_val_dirs(root_path, class_size, start_from):\n",
        "\n",
        "  os.makedirs(os.path.join(root_path, \"Train\"))\n",
        "  os.makedirs(os.path.join(root_path, \"Validation\"))\n",
        "\n",
        "\n",
        "  #Create train dirs\n",
        "  for i in range(start_from, class_size+1):\n",
        "    os.makedirs(os.path.join(root_path, \"Train/\" + f\"{i}\"))\n",
        "\n",
        "  #Create validation dirs\n",
        "  for i in range(start_from, class_size+1):\n",
        "    os.makedirs(os.path.join(root_path, \"Validation/\" + f\"{i}\"))\n"
      ]
    },
    {
      "cell_type": "code",
      "execution_count": null,
      "metadata": {
        "id": "Sm8FMsrhC7eV"
      },
      "outputs": [],
      "source": [
        "try:\n",
        "  create_train_val_dirs(root_path=root_dir, class_size=class_size, start_from=start_from)\n",
        "except FileExistsError:\n",
        "  print(\"You should not be seeing this since the upper directory is removed beforehand\")"
      ]
    },
    {
      "cell_type": "code",
      "source": [
        "train_list_dir = os.listdir(os.path.join(root_dir, \"Train\"))\n",
        "validation_list_dir = os.listdir(os.path.join(root_dir, \"Validation\"))\n",
        "source_list_dir = os.listdir(os.path.join(root_dir))\n",
        "source_list_dir.remove(\"Train\")\n",
        "source_list_dir.remove(\"Validation\")\n",
        "\n",
        "print(\"Train Directories:\" + f\"{train_list_dir}\\n\")\n",
        "print(\"Validation Directories:\" + f\"{validation_list_dir}\\n\")\n",
        "print(\"Source Directories:\" + f\"{source_list_dir}\\n\")"
      ],
      "metadata": {
        "colab": {
          "base_uri": "https://localhost:8080/"
        },
        "id": "UuIpJmg_I4hy",
        "outputId": "390766f6-ecdf-4bfc-972c-cb0e2967885a"
      },
      "execution_count": null,
      "outputs": [
        {
          "output_type": "stream",
          "name": "stdout",
          "text": [
            "Train Directories:['1', '2', '3', '4', '5', '6', '7', '8', '9', '10']\n",
            "\n",
            "Validation Directories:['1', '2', '3', '4', '5', '6', '7', '8', '9', '10']\n",
            "\n",
            "Source Directories:['7', '10', '3', '9', '2', '1', '4', '8', '6', '5']\n",
            "\n"
          ]
        }
      ]
    },
    {
      "cell_type": "code",
      "execution_count": null,
      "metadata": {
        "id": "ZY7KBY0uDN59"
      },
      "outputs": [],
      "source": [
        "import math\n",
        "\n",
        "def split_data(SOURCE_DIR, TRAINING_DIR, VALIDATION_DIR, SPLIT_SIZE):\n",
        "\n",
        "  list_source = os.listdir(SOURCE_DIR)\n",
        "  list_source_rand = random.sample(list_source, len(list_source))\n",
        "  size_train = int(len(list_source)*SPLIT_SIZE)\n",
        "  #split train\n",
        "  for i in range(size_train):\n",
        "    if os.path.getsize(os.path.join(SOURCE_DIR, list_source_rand[i])) == 0:\n",
        "      print(f\"{list_source_rand[i]} is zero length, so ignoring.\")\n",
        "      continue\n",
        "    copyfile(os.path.join(SOURCE_DIR, list_source_rand[i]), os.path.join(TRAINING_DIR, list_source_rand[i]))\n",
        "\n",
        "  for i in range(size_train, len(list_source)):\n",
        "    if os.path.getsize(os.path.join(SOURCE_DIR, list_source_rand[i])) == 0:\n",
        "      print(f\"{list_source_rand[i]} is zero length, so ignoring.\")\n",
        "      continue\n",
        "    copyfile(os.path.join(SOURCE_DIR, list_source_rand[i]), os.path.join(VALIDATION_DIR, list_source_rand[i]))\n"
      ]
    },
    {
      "cell_type": "code",
      "execution_count": null,
      "metadata": {
        "colab": {
          "base_uri": "https://localhost:8080/"
        },
        "id": "U7HTJ-09Daw4",
        "outputId": "76ea70a7-7901-4a59-81d8-91b99ee67927"
      },
      "outputs": [
        {
          "output_type": "stream",
          "name": "stdout",
          "text": [
            "\n",
            "Original 1 directory has 166 images\n",
            "\n",
            "Original 2 directory has 348 images\n",
            "\n",
            "Original 3 directory has 345 images\n",
            "\n",
            "Original 4 directory has 239 images\n",
            "\n",
            "Original 5 directory has 189 images\n",
            "\n",
            "Original 6 directory has 165 images\n",
            "\n",
            "Original 7 directory has 76 images\n",
            "\n",
            "Original 8 directory has 143 images\n",
            "\n",
            "Original 9 directory has 141 images\n",
            "\n",
            "Original 10 directory has 111 images\n",
            "\n",
            "Training 1 directory has 132 images\n",
            "Validation 1 directory has 34 images\n",
            "\n",
            "Training 2 directory has 278 images\n",
            "Validation 2 directory has 70 images\n",
            "\n",
            "Training 3 directory has 276 images\n",
            "Validation 3 directory has 69 images\n",
            "\n",
            "Training 4 directory has 191 images\n",
            "Validation 4 directory has 48 images\n",
            "\n",
            "Training 5 directory has 151 images\n",
            "Validation 5 directory has 38 images\n",
            "\n",
            "Training 6 directory has 132 images\n",
            "Validation 6 directory has 33 images\n",
            "\n",
            "Training 7 directory has 60 images\n",
            "Validation 7 directory has 16 images\n",
            "\n",
            "Training 8 directory has 114 images\n",
            "Validation 8 directory has 29 images\n",
            "\n",
            "Training 9 directory has 112 images\n",
            "Validation 9 directory has 29 images\n",
            "\n",
            "Training 10 directory has 88 images\n",
            "Validation 10 directory has 23 images\n"
          ]
        }
      ],
      "source": [
        "#Check if directory empty\n",
        "for i in range(0, class_size):\n",
        "  #Train\n",
        "  if len(os.listdir(os.path.join(root_dir, \"Train/\"+f\"{train_list_dir[i]}\"))) > 0:\n",
        "    for file in os.scandir(os.path.join(root_dir, \"Train/\"+f\"{train_list_dir[i]}\")):\n",
        "      os.remove(file.path)\n",
        "  #Validation\n",
        "  if len(os.listdir(os.path.join(root_dir, \"Validation/\"+f\"{validation_list_dir[i]}\"))) > 0:\n",
        "    for file in os.scandir(os.path.join(root_dir, \"Validation/\"+f\"{validation_list_dir[i]}\")):\n",
        "      os.remove(file.path)\n",
        "\n",
        "split_size = .8\n",
        "\n",
        "# Run the function\n",
        "for i in range(start_from, class_size+1):\n",
        "  source_dir = os.path.join(root_dir, f\"{i}\")\n",
        "  training_dir = os.path.join(root_dir, \"Train/\"+f\"{i}\")\n",
        "  validation_dir = os.path.join(root_dir, \"Validation/\"+f\"{i}\")\n",
        "  split_data(source_dir, training_dir, validation_dir, split_size)\n",
        "\n",
        "# Check that the number of images matches the expected output\n",
        "\n",
        "# Your function should perform copies rather than moving images so original directories should contain unchanged images\n",
        "for i in range(start_from, class_size+1):\n",
        "  source_dir = os.path.join(root_dir, f\"{i}\")\n",
        "  print(f\"\\nOriginal {i} directory has {len(os.listdir(source_dir))} images\")\n",
        "\n",
        "# Training and validation splits\n",
        "for i in range(start_from, class_size+1):\n",
        "  training_dir = os.path.join(root_dir, \"Train/\"+f\"{i}\")\n",
        "  validation_dir = os.path.join(root_dir, \"Validation/\"+f\"{i}\")\n",
        "  print(f\"\\nTraining {i} directory has {len(os.listdir(training_dir))} images\")\n",
        "  print(f\"Validation {i} directory has {len(os.listdir(validation_dir))} images\")"
      ]
    },
    {
      "cell_type": "markdown",
      "metadata": {
        "id": "9Ag9uVgAbEKV"
      },
      "source": [
        "#Ini untuk train dan modify model"
      ]
    },
    {
      "cell_type": "code",
      "source": [
        "training_dir = os.path.join(root_dir, \"Train\")\n",
        "validation_dir = os.path.join(root_dir, \"Validation\")"
      ],
      "metadata": {
        "id": "jBoz_OQEehVT"
      },
      "execution_count": 4,
      "outputs": []
    },
    {
      "cell_type": "code",
      "source": [
        "# Set the learning rate scheduler\n",
        "lr_schedule = tf.keras.callbacks.LearningRateScheduler(\n",
        "    lambda epoch: 0.1 * 10**(epoch / 20))"
      ],
      "metadata": {
        "id": "YzU2eocFYsqh"
      },
      "execution_count": 5,
      "outputs": []
    },
    {
      "cell_type": "code",
      "execution_count": 6,
      "metadata": {
        "id": "JERXcZ3TNURf"
      },
      "outputs": [],
      "source": [
        "def train_val_generators(TRAINING_DIR, VALIDATION_DIR):\n",
        "\n",
        "  train_datagen = ImageDataGenerator(rescale=1./255.)\n",
        "\n",
        "  train_generator = train_datagen.flow_from_directory(directory=TRAINING_DIR,\n",
        "                                                      batch_size=20,\n",
        "                                                      class_mode='categorical',\n",
        "                                                      target_size=(150, 150))\n",
        "\n",
        "  validation_datagen = ImageDataGenerator(rescale=1./255.)\n",
        "  # Pass in the appropriate arguments to the flow_from_directory method\n",
        "  validation_generator = validation_datagen.flow_from_directory(directory=VALIDATION_DIR,\n",
        "                                                                batch_size=20,\n",
        "                                                                class_mode='categorical',\n",
        "                                                                target_size=(150, 150))\n",
        "  ### END CODE HERE\n",
        "  return train_generator, validation_generator"
      ]
    },
    {
      "cell_type": "code",
      "execution_count": 7,
      "metadata": {
        "colab": {
          "base_uri": "https://localhost:8080/"
        },
        "id": "zjAaoGhnOcLP",
        "outputId": "4c241215-a98f-48fd-9f5a-049deb149156"
      },
      "outputs": [
        {
          "output_type": "stream",
          "name": "stdout",
          "text": [
            "Found 1526 images belonging to 10 classes.\n",
            "Found 389 images belonging to 10 classes.\n"
          ]
        }
      ],
      "source": [
        "train_generator, validation_generator = train_val_generators(training_dir, validation_dir)"
      ]
    },
    {
      "cell_type": "code",
      "execution_count": 10,
      "metadata": {
        "id": "BxqY3tiLOjk7"
      },
      "outputs": [],
      "source": [
        "def create_model():\n",
        "\n",
        "  model = tf.keras.models.Sequential([ \n",
        "      tf.keras.layers.Conv2D(16, (3, 3), activation='relu', input_shape=(150, 150, 3)),\n",
        "      tf.keras.layers.MaxPooling2D(2, 2),\n",
        "      tf.keras.layers.Conv2D(32, (3,3), activation='relu'),\n",
        "      tf.keras.layers.MaxPooling2D(2, 2),\n",
        "      tf.keras.layers.Conv2D(32, (3,3), activation='relu'),\n",
        "      tf.keras.layers.MaxPooling2D(2, 2),\n",
        "      tf.keras.layers.Flatten(),\n",
        "      tf.keras.layers.Dense(512, activation='relu'),\n",
        "      tf.keras.layers.Dense(10, activation='softmax')\n",
        "  ])\n",
        "\n",
        "  \n",
        "  model.compile(optimizer=tf.keras.optimizers.SGD(learning_rate=0.01),\n",
        "                loss='categorical_crossentropy',\n",
        "                metrics=['accuracy']) \n",
        "    \n",
        "  return model"
      ]
    },
    {
      "cell_type": "code",
      "source": [
        "# LR Tuning\n",
        "model = create_model()\n",
        "\n",
        "# Train the model\n",
        "# Note that this may take some time.\n",
        "history = model.fit(train_generator,\n",
        "                    epochs=20,\n",
        "                    verbose=1,\n",
        "                    validation_data=validation_generator,\n",
        "                    callbacks=[lr_schedule])"
      ],
      "metadata": {
        "id": "AdKQotnPkkcM",
        "colab": {
          "base_uri": "https://localhost:8080/"
        },
        "outputId": "7b5bec02-c742-4084-9873-ca93565f5ed6"
      },
      "execution_count": null,
      "outputs": [
        {
          "output_type": "stream",
          "name": "stdout",
          "text": [
            "Epoch 1/10\n",
            "77/77 [==============================] - 350s 5s/step - loss: 2.2481 - accuracy: 0.1776 - val_loss: 2.2043 - val_accuracy: 0.1851 - lr: 0.1000\n",
            "Epoch 2/10\n",
            "77/77 [==============================] - 343s 4s/step - loss: 2.0877 - accuracy: 0.2274 - val_loss: 1.9848 - val_accuracy: 0.2571 - lr: 0.1122\n",
            "Epoch 3/10\n",
            "77/77 [==============================] - 347s 5s/step - loss: 1.7326 - accuracy: 0.3768 - val_loss: 1.6373 - val_accuracy: 0.3111 - lr: 0.1259\n",
            "Epoch 4/10\n",
            "77/77 [==============================] - 319s 4s/step - loss: 1.4172 - accuracy: 0.4882 - val_loss: 1.2974 - val_accuracy: 0.5501 - lr: 0.1413\n",
            "Epoch 5/10\n",
            "77/77 [==============================] - 322s 4s/step - loss: 1.0937 - accuracy: 0.6206 - val_loss: 1.7870 - val_accuracy: 0.2468 - lr: 0.1585\n",
            "Epoch 6/10\n",
            "77/77 [==============================] - 347s 5s/step - loss: 0.9030 - accuracy: 0.6841 - val_loss: 1.0719 - val_accuracy: 0.6093 - lr: 0.1778\n",
            "Epoch 7/10\n",
            "77/77 [==============================] - 341s 4s/step - loss: 0.7142 - accuracy: 0.7569 - val_loss: 1.0657 - val_accuracy: 0.6041 - lr: 0.1995\n",
            "Epoch 8/10\n",
            "77/77 [==============================] - 346s 5s/step - loss: 0.9590 - accuracy: 0.6953 - val_loss: 1.1399 - val_accuracy: 0.5964 - lr: 0.2239\n",
            "Epoch 9/10\n",
            "77/77 [==============================] - 339s 4s/step - loss: 0.4742 - accuracy: 0.8349 - val_loss: 1.0438 - val_accuracy: 0.6632 - lr: 0.2512\n",
            "Epoch 10/10\n",
            "77/77 [==============================] - 346s 4s/step - loss: 1.7163 - accuracy: 0.4574 - val_loss: 2.2149 - val_accuracy: 0.1774 - lr: 0.2818\n"
          ]
        }
      ]
    },
    {
      "cell_type": "code",
      "execution_count": 11,
      "metadata": {
        "colab": {
          "base_uri": "https://localhost:8080/"
        },
        "id": "z3Y5QTW2OrPz",
        "outputId": "3d80e0b8-f467-4b67-8efd-1d987bb27378"
      },
      "outputs": [
        {
          "output_type": "stream",
          "name": "stdout",
          "text": [
            "Epoch 1/20\n",
            "77/77 [==============================] - 222s 3s/step - loss: 2.0848 - accuracy: 0.2451 - val_loss: 1.8975 - val_accuracy: 0.3188\n",
            "Epoch 2/20\n",
            "77/77 [==============================] - 255s 3s/step - loss: 1.8423 - accuracy: 0.3250 - val_loss: 1.8561 - val_accuracy: 0.3008\n",
            "Epoch 3/20\n",
            "77/77 [==============================] - 253s 3s/step - loss: 1.6052 - accuracy: 0.4273 - val_loss: 1.5076 - val_accuracy: 0.4730\n",
            "Epoch 4/20\n",
            "77/77 [==============================] - 217s 3s/step - loss: 1.3973 - accuracy: 0.4954 - val_loss: 1.3390 - val_accuracy: 0.4910\n",
            "Epoch 5/20\n",
            "77/77 [==============================] - 215s 3s/step - loss: 1.1573 - accuracy: 0.5917 - val_loss: 1.0809 - val_accuracy: 0.6298\n",
            "Epoch 6/20\n",
            "77/77 [==============================] - 258s 3s/step - loss: 1.0059 - accuracy: 0.6481 - val_loss: 0.9738 - val_accuracy: 0.6375\n",
            "Epoch 7/20\n",
            "77/77 [==============================] - 215s 3s/step - loss: 0.8465 - accuracy: 0.7038 - val_loss: 0.8821 - val_accuracy: 0.7069\n",
            "Epoch 8/20\n",
            "77/77 [==============================] - 213s 3s/step - loss: 0.7517 - accuracy: 0.7451 - val_loss: 0.8230 - val_accuracy: 0.7275\n",
            "Epoch 9/20\n",
            "77/77 [==============================] - 221s 3s/step - loss: 0.6255 - accuracy: 0.7896 - val_loss: 0.8256 - val_accuracy: 0.6992\n",
            "Epoch 10/20\n",
            "77/77 [==============================] - 216s 3s/step - loss: 0.5119 - accuracy: 0.8172 - val_loss: 0.9298 - val_accuracy: 0.7069\n",
            "Epoch 11/20\n",
            "77/77 [==============================] - 254s 3s/step - loss: 0.5238 - accuracy: 0.8309 - val_loss: 0.8222 - val_accuracy: 0.7378\n",
            "Epoch 12/20\n",
            "77/77 [==============================] - 218s 3s/step - loss: 0.3925 - accuracy: 0.8689 - val_loss: 0.7964 - val_accuracy: 0.7532\n",
            "Epoch 13/20\n",
            "77/77 [==============================] - 254s 3s/step - loss: 0.3067 - accuracy: 0.8965 - val_loss: 0.7185 - val_accuracy: 0.7789\n",
            "Epoch 14/20\n",
            "77/77 [==============================] - 229s 3s/step - loss: 0.2366 - accuracy: 0.9246 - val_loss: 0.7610 - val_accuracy: 0.7763\n",
            "Epoch 15/20\n",
            "77/77 [==============================] - 255s 3s/step - loss: 0.2165 - accuracy: 0.9332 - val_loss: 1.4403 - val_accuracy: 0.6658\n",
            "Epoch 16/20\n",
            "77/77 [==============================] - 258s 3s/step - loss: 0.1654 - accuracy: 0.9509 - val_loss: 0.7451 - val_accuracy: 0.7918\n",
            "Epoch 17/20\n",
            "77/77 [==============================] - 257s 3s/step - loss: 0.1285 - accuracy: 0.9626 - val_loss: 0.7959 - val_accuracy: 0.8149\n",
            "Epoch 18/20\n",
            "77/77 [==============================] - 215s 3s/step - loss: 0.1270 - accuracy: 0.9574 - val_loss: 0.8000 - val_accuracy: 0.7918\n",
            "Epoch 19/20\n",
            "77/77 [==============================] - 255s 3s/step - loss: 0.0948 - accuracy: 0.9758 - val_loss: 0.7948 - val_accuracy: 0.8046\n",
            "Epoch 20/20\n",
            "77/77 [==============================] - 214s 3s/step - loss: 0.0641 - accuracy: 0.9843 - val_loss: 0.8634 - val_accuracy: 0.8046\n"
          ]
        }
      ],
      "source": [
        "# Get the untrained model\n",
        "model = create_model()\n",
        "\n",
        "# Train the model\n",
        "# Note that this may take some time.\n",
        "history = model.fit(train_generator,\n",
        "                    epochs=20,\n",
        "                    verbose=1,\n",
        "                    validation_data=validation_generator,)"
      ]
    },
    {
      "cell_type": "code",
      "execution_count": 14,
      "metadata": {
        "colab": {
          "base_uri": "https://localhost:8080/",
          "height": 141
        },
        "id": "yNjgV88PPPXp",
        "outputId": "64c03b3e-9f8f-41ac-a46d-faef3defb640"
      },
      "outputs": [
        {
          "output_type": "display_data",
          "data": {
            "text/plain": [
              "<IPython.core.display.HTML object>"
            ],
            "text/html": [
              "\n",
              "     <input type=\"file\" id=\"files-ab03a4ac-934e-45ed-b3d7-7d349a421098\" name=\"files[]\" multiple disabled\n",
              "        style=\"border:none\" />\n",
              "     <output id=\"result-ab03a4ac-934e-45ed-b3d7-7d349a421098\">\n",
              "      Upload widget is only available when the cell has been executed in the\n",
              "      current browser session. Please rerun this cell to enable.\n",
              "      </output>\n",
              "      <script>// Copyright 2017 Google LLC\n",
              "//\n",
              "// Licensed under the Apache License, Version 2.0 (the \"License\");\n",
              "// you may not use this file except in compliance with the License.\n",
              "// You may obtain a copy of the License at\n",
              "//\n",
              "//      http://www.apache.org/licenses/LICENSE-2.0\n",
              "//\n",
              "// Unless required by applicable law or agreed to in writing, software\n",
              "// distributed under the License is distributed on an \"AS IS\" BASIS,\n",
              "// WITHOUT WARRANTIES OR CONDITIONS OF ANY KIND, either express or implied.\n",
              "// See the License for the specific language governing permissions and\n",
              "// limitations under the License.\n",
              "\n",
              "/**\n",
              " * @fileoverview Helpers for google.colab Python module.\n",
              " */\n",
              "(function(scope) {\n",
              "function span(text, styleAttributes = {}) {\n",
              "  const element = document.createElement('span');\n",
              "  element.textContent = text;\n",
              "  for (const key of Object.keys(styleAttributes)) {\n",
              "    element.style[key] = styleAttributes[key];\n",
              "  }\n",
              "  return element;\n",
              "}\n",
              "\n",
              "// Max number of bytes which will be uploaded at a time.\n",
              "const MAX_PAYLOAD_SIZE = 100 * 1024;\n",
              "\n",
              "function _uploadFiles(inputId, outputId) {\n",
              "  const steps = uploadFilesStep(inputId, outputId);\n",
              "  const outputElement = document.getElementById(outputId);\n",
              "  // Cache steps on the outputElement to make it available for the next call\n",
              "  // to uploadFilesContinue from Python.\n",
              "  outputElement.steps = steps;\n",
              "\n",
              "  return _uploadFilesContinue(outputId);\n",
              "}\n",
              "\n",
              "// This is roughly an async generator (not supported in the browser yet),\n",
              "// where there are multiple asynchronous steps and the Python side is going\n",
              "// to poll for completion of each step.\n",
              "// This uses a Promise to block the python side on completion of each step,\n",
              "// then passes the result of the previous step as the input to the next step.\n",
              "function _uploadFilesContinue(outputId) {\n",
              "  const outputElement = document.getElementById(outputId);\n",
              "  const steps = outputElement.steps;\n",
              "\n",
              "  const next = steps.next(outputElement.lastPromiseValue);\n",
              "  return Promise.resolve(next.value.promise).then((value) => {\n",
              "    // Cache the last promise value to make it available to the next\n",
              "    // step of the generator.\n",
              "    outputElement.lastPromiseValue = value;\n",
              "    return next.value.response;\n",
              "  });\n",
              "}\n",
              "\n",
              "/**\n",
              " * Generator function which is called between each async step of the upload\n",
              " * process.\n",
              " * @param {string} inputId Element ID of the input file picker element.\n",
              " * @param {string} outputId Element ID of the output display.\n",
              " * @return {!Iterable<!Object>} Iterable of next steps.\n",
              " */\n",
              "function* uploadFilesStep(inputId, outputId) {\n",
              "  const inputElement = document.getElementById(inputId);\n",
              "  inputElement.disabled = false;\n",
              "\n",
              "  const outputElement = document.getElementById(outputId);\n",
              "  outputElement.innerHTML = '';\n",
              "\n",
              "  const pickedPromise = new Promise((resolve) => {\n",
              "    inputElement.addEventListener('change', (e) => {\n",
              "      resolve(e.target.files);\n",
              "    });\n",
              "  });\n",
              "\n",
              "  const cancel = document.createElement('button');\n",
              "  inputElement.parentElement.appendChild(cancel);\n",
              "  cancel.textContent = 'Cancel upload';\n",
              "  const cancelPromise = new Promise((resolve) => {\n",
              "    cancel.onclick = () => {\n",
              "      resolve(null);\n",
              "    };\n",
              "  });\n",
              "\n",
              "  // Wait for the user to pick the files.\n",
              "  const files = yield {\n",
              "    promise: Promise.race([pickedPromise, cancelPromise]),\n",
              "    response: {\n",
              "      action: 'starting',\n",
              "    }\n",
              "  };\n",
              "\n",
              "  cancel.remove();\n",
              "\n",
              "  // Disable the input element since further picks are not allowed.\n",
              "  inputElement.disabled = true;\n",
              "\n",
              "  if (!files) {\n",
              "    return {\n",
              "      response: {\n",
              "        action: 'complete',\n",
              "      }\n",
              "    };\n",
              "  }\n",
              "\n",
              "  for (const file of files) {\n",
              "    const li = document.createElement('li');\n",
              "    li.append(span(file.name, {fontWeight: 'bold'}));\n",
              "    li.append(span(\n",
              "        `(${file.type || 'n/a'}) - ${file.size} bytes, ` +\n",
              "        `last modified: ${\n",
              "            file.lastModifiedDate ? file.lastModifiedDate.toLocaleDateString() :\n",
              "                                    'n/a'} - `));\n",
              "    const percent = span('0% done');\n",
              "    li.appendChild(percent);\n",
              "\n",
              "    outputElement.appendChild(li);\n",
              "\n",
              "    const fileDataPromise = new Promise((resolve) => {\n",
              "      const reader = new FileReader();\n",
              "      reader.onload = (e) => {\n",
              "        resolve(e.target.result);\n",
              "      };\n",
              "      reader.readAsArrayBuffer(file);\n",
              "    });\n",
              "    // Wait for the data to be ready.\n",
              "    let fileData = yield {\n",
              "      promise: fileDataPromise,\n",
              "      response: {\n",
              "        action: 'continue',\n",
              "      }\n",
              "    };\n",
              "\n",
              "    // Use a chunked sending to avoid message size limits. See b/62115660.\n",
              "    let position = 0;\n",
              "    do {\n",
              "      const length = Math.min(fileData.byteLength - position, MAX_PAYLOAD_SIZE);\n",
              "      const chunk = new Uint8Array(fileData, position, length);\n",
              "      position += length;\n",
              "\n",
              "      const base64 = btoa(String.fromCharCode.apply(null, chunk));\n",
              "      yield {\n",
              "        response: {\n",
              "          action: 'append',\n",
              "          file: file.name,\n",
              "          data: base64,\n",
              "        },\n",
              "      };\n",
              "\n",
              "      let percentDone = fileData.byteLength === 0 ?\n",
              "          100 :\n",
              "          Math.round((position / fileData.byteLength) * 100);\n",
              "      percent.textContent = `${percentDone}% done`;\n",
              "\n",
              "    } while (position < fileData.byteLength);\n",
              "  }\n",
              "\n",
              "  // All done.\n",
              "  yield {\n",
              "    response: {\n",
              "      action: 'complete',\n",
              "    }\n",
              "  };\n",
              "}\n",
              "\n",
              "scope.google = scope.google || {};\n",
              "scope.google.colab = scope.google.colab || {};\n",
              "scope.google.colab._files = {\n",
              "  _uploadFiles,\n",
              "  _uploadFilesContinue,\n",
              "};\n",
              "})(self);\n",
              "</script> "
            ]
          },
          "metadata": {}
        },
        {
          "output_type": "stream",
          "name": "stdout",
          "text": [
            "Saving 8BC7C220-E79E-41D6-B466-7BAFF3418D1C.jpg to 8BC7C220-E79E-41D6-B466-7BAFF3418D1C (1).jpg\n",
            "1/1 [==============================] - 0s 22ms/step\n",
            "[7.0601436e-03 1.8629929e-04 8.1943834e-01 9.6753821e-02 3.5978969e-02\n",
            " 1.6689509e-02 1.6457019e-05 2.3847219e-02 1.7653472e-06 2.7544293e-05]\n",
            "3\n"
          ]
        }
      ],
      "source": [
        "import numpy as np\n",
        "\n",
        "from google.colab import files\n",
        "from tensorflow.keras.utils import load_img, img_to_array\n",
        "import json\n",
        "from json import JSONEncoder\n",
        "\n",
        "import sys\n",
        "\n",
        "\n",
        "\n",
        "uploaded=files.upload()\n",
        "\n",
        "sample_arr = \"\"\n",
        "\n",
        "for fn in uploaded.keys():\n",
        " \n",
        "  path='/content/' + fn\n",
        "  img=load_img(path, target_size=(150, 150))\n",
        "  \n",
        "  x=img_to_array(img)\n",
        "  x /= 255\n",
        "  x=np.expand_dims(x, axis=0)\n",
        "  images = np.vstack([x])\n",
        "\n",
        "  # np.set_printoptions(threshold=sys.maxsize)\n",
        "\n",
        "  # arr_str = np.array_str(images)\n",
        "\n",
        "  # # print(arr_str)\n",
        "\n",
        "\n",
        "  # with open('readme.txt', 'w') as f:\n",
        "  #     for line in images:\n",
        "  #         f.write(str(line))\n",
        "  #         f.write('\\n')\n",
        "  \n",
        "  classes = model.predict(images, batch_size=10)\n",
        "  \n",
        "  print(classes[0])\n",
        "\n",
        "class_result = 0\n",
        "temp = 0\n",
        "counter = 0\n",
        "\n",
        "for i in classes[0]:\n",
        "  counter+=1\n",
        "  if i > temp:\n",
        "    temp = i\n",
        "    class_result = counter\n",
        "\n",
        "print(class_result)\n",
        " "
      ]
    },
    {
      "cell_type": "code",
      "execution_count": 15,
      "metadata": {
        "id": "CO46_zWQRQKS"
      },
      "outputs": [],
      "source": [
        "# Save the entire model as a SavedModel.\n",
        "!mkdir -p saved_model\n",
        "model.save('saved_model/my_model.h5')"
      ]
    },
    {
      "cell_type": "code",
      "execution_count": 16,
      "metadata": {
        "colab": {
          "base_uri": "https://localhost:8080/"
        },
        "id": "qGxDOf_QbtZ1",
        "outputId": "9f287e96-a591-4d0b-ddcb-ece694d15afc"
      },
      "outputs": [
        {
          "output_type": "stream",
          "name": "stdout",
          "text": [
            "  adding: content/saved_model/ (stored 0%)\n",
            "  adding: content/saved_model/my_model.h5 (deflated 19%)\n"
          ]
        }
      ],
      "source": [
        "!zip -r /content/saved_model.zip /content/saved_model\n",
        "# change sample_data.zip to your desired download name Ex: nothing.zip\n",
        "# change sample_data to your desired download folder name Ex: ner_data "
      ]
    },
    {
      "cell_type": "code",
      "execution_count": 17,
      "metadata": {
        "colab": {
          "base_uri": "https://localhost:8080/",
          "height": 17
        },
        "id": "aYvUIbhGbuvH",
        "outputId": "11437036-118c-492c-b7b8-eedb4ccd6c21"
      },
      "outputs": [
        {
          "output_type": "display_data",
          "data": {
            "text/plain": [
              "<IPython.core.display.Javascript object>"
            ],
            "application/javascript": [
              "\n",
              "    async function download(id, filename, size) {\n",
              "      if (!google.colab.kernel.accessAllowed) {\n",
              "        return;\n",
              "      }\n",
              "      const div = document.createElement('div');\n",
              "      const label = document.createElement('label');\n",
              "      label.textContent = `Downloading \"${filename}\": `;\n",
              "      div.appendChild(label);\n",
              "      const progress = document.createElement('progress');\n",
              "      progress.max = size;\n",
              "      div.appendChild(progress);\n",
              "      document.body.appendChild(div);\n",
              "\n",
              "      const buffers = [];\n",
              "      let downloaded = 0;\n",
              "\n",
              "      const channel = await google.colab.kernel.comms.open(id);\n",
              "      // Send a message to notify the kernel that we're ready.\n",
              "      channel.send({})\n",
              "\n",
              "      for await (const message of channel.messages) {\n",
              "        // Send a message to notify the kernel that we're ready.\n",
              "        channel.send({})\n",
              "        if (message.buffers) {\n",
              "          for (const buffer of message.buffers) {\n",
              "            buffers.push(buffer);\n",
              "            downloaded += buffer.byteLength;\n",
              "            progress.value = downloaded;\n",
              "          }\n",
              "        }\n",
              "      }\n",
              "      const blob = new Blob(buffers, {type: 'application/binary'});\n",
              "      const a = document.createElement('a');\n",
              "      a.href = window.URL.createObjectURL(blob);\n",
              "      a.download = filename;\n",
              "      div.appendChild(a);\n",
              "      a.click();\n",
              "      div.remove();\n",
              "    }\n",
              "  "
            ]
          },
          "metadata": {}
        },
        {
          "output_type": "display_data",
          "data": {
            "text/plain": [
              "<IPython.core.display.Javascript object>"
            ],
            "application/javascript": [
              "download(\"download_b7bb22e3-5e19-401a-98ff-63df206a58e3\", \"saved_model.zip\", 31033436)"
            ]
          },
          "metadata": {}
        }
      ],
      "source": [
        "from google.colab import files\n",
        "files.download(\"/content/saved_model.zip\")"
      ]
    },
    {
      "cell_type": "markdown",
      "source": [
        "#Run dari sini kalau gamau train lagi"
      ],
      "metadata": {
        "id": "tAg01zNpTJgT"
      }
    },
    {
      "cell_type": "code",
      "execution_count": null,
      "metadata": {
        "id": "r3t6W1iwbxJF"
      },
      "outputs": [],
      "source": [
        "load_model = tf.keras.models.load_model('saved_model/my_model.h5')"
      ]
    },
    {
      "cell_type": "code",
      "source": [
        "load_model.summary()"
      ],
      "metadata": {
        "colab": {
          "base_uri": "https://localhost:8080/"
        },
        "id": "5_fTgBakTWNC",
        "outputId": "821cd84d-7f29-4be6-f80b-ab21d49d2b0e"
      },
      "execution_count": null,
      "outputs": [
        {
          "output_type": "stream",
          "name": "stdout",
          "text": [
            "Model: \"sequential_1\"\n",
            "_________________________________________________________________\n",
            " Layer (type)                Output Shape              Param #   \n",
            "=================================================================\n",
            " conv2d_3 (Conv2D)           (None, 148, 148, 16)      448       \n",
            "                                                                 \n",
            " max_pooling2d_3 (MaxPooling  (None, 74, 74, 16)       0         \n",
            " 2D)                                                             \n",
            "                                                                 \n",
            " conv2d_4 (Conv2D)           (None, 72, 72, 32)        4640      \n",
            "                                                                 \n",
            " max_pooling2d_4 (MaxPooling  (None, 36, 36, 32)       0         \n",
            " 2D)                                                             \n",
            "                                                                 \n",
            " conv2d_5 (Conv2D)           (None, 34, 34, 32)        9248      \n",
            "                                                                 \n",
            " max_pooling2d_5 (MaxPooling  (None, 17, 17, 32)       0         \n",
            " 2D)                                                             \n",
            "                                                                 \n",
            " flatten_1 (Flatten)         (None, 9248)              0         \n",
            "                                                                 \n",
            " dense_2 (Dense)             (None, 512)               4735488   \n",
            "                                                                 \n",
            " dense_3 (Dense)             (None, 10)                5130      \n",
            "                                                                 \n",
            "=================================================================\n",
            "Total params: 4,754,954\n",
            "Trainable params: 4,754,954\n",
            "Non-trainable params: 0\n",
            "_________________________________________________________________\n"
          ]
        }
      ]
    },
    {
      "cell_type": "code",
      "source": [
        "import numpy as np\n",
        "\n",
        "from google.colab import files\n",
        "from tensorflow.keras.utils import load_img, img_to_array\n",
        "import json\n",
        "from json import JSONEncoder\n",
        "\n",
        "import sys\n",
        "\n",
        "uploaded=files.upload()\n",
        "\n",
        "sample_arr = \"\"\n",
        "\n",
        "for fn in uploaded.keys():\n",
        " \n",
        "  path='/content/' + fn\n",
        "  img=load_img(path, target_size=(150, 150))\n",
        "  \n",
        "  x=img_to_array(img)\n",
        "  x /= 255\n",
        "  x=np.expand_dims(x, axis=0)\n",
        "  images = np.vstack([x])\n",
        "\n",
        "  # np.set_printoptions(threshold=sys.maxsize)\n",
        "\n",
        "  # arr_str = np.array_str(images)\n",
        "\n",
        "  # # print(arr_str)\n",
        "\n",
        "\n",
        "  # with open('readme.txt', 'w') as f:\n",
        "  #     for line in images:\n",
        "  #         f.write(str(line))\n",
        "  #         f.write('\\n')\n",
        "  \n",
        "  classes = load_model.predict(images, batch_size=10)\n",
        "  \n",
        "  print(classes[0])\n",
        "\n",
        "class_result = 0\n",
        "temp = 0\n",
        "counter = 0\n",
        "\n",
        "for i in classes[0]:\n",
        "  counter+=1\n",
        "  if i > temp:\n",
        "    temp = i\n",
        "    class_result = counter\n",
        "\n",
        "print(class_result)\n",
        " "
      ],
      "metadata": {
        "id": "BItbVXsfTYMC"
      },
      "execution_count": null,
      "outputs": []
    }
  ],
  "metadata": {
    "colab": {
      "provenance": [],
      "toc_visible": true
    },
    "kernelspec": {
      "display_name": "Python 3",
      "name": "python3"
    },
    "language_info": {
      "name": "python"
    }
  },
  "nbformat": 4,
  "nbformat_minor": 0
}